{
 "cells": [
  {
   "cell_type": "code",
   "execution_count": 1,
   "metadata": {},
   "outputs": [
    {
     "name": "stdout",
     "output_type": "stream",
     "text": [
      "[[25  3]\n",
      " [43  5]\n",
      " [44  6]]\n"
     ]
    }
   ],
   "source": [
    "import numpy as np\n",
    "\n",
    "######################################################\n",
    "# Question 1\n",
    "variable1 = np.array([[2, 3], [4, 5], [1, 6]])\n",
    "variable2 = np.array([[2, 0], [7, 1]])\n",
    "\n",
    "# multiplying 3x2 matrix and 2x2 matrix\n",
    "result = np.dot(variable1, variable2)\n",
    "\n",
    "print(result)"
   ]
  },
  {
   "cell_type": "code",
   "execution_count": 2,
   "metadata": {},
   "outputs": [
    {
     "name": "stdout",
     "output_type": "stream",
     "text": [
      "The solution is: [1.66666667 0.16666667]\n"
     ]
    }
   ],
   "source": [
    "######################################################\n",
    "# Questiıon 2\n",
    "A = np.array([[1, 2], [4, 2]])\n",
    "\n",
    "b = np.array([2, 7])\n",
    "\n",
    "solution = np.linalg.solve(A, b)\n",
    "\n",
    "# Display the solution\n",
    "print(\"The solution is:\", solution)"
   ]
  },
  {
   "cell_type": "code",
   "execution_count": 3,
   "metadata": {},
   "outputs": [
    {
     "name": "stdout",
     "output_type": "stream",
     "text": [
      "L1 Norm: 11.0\n",
      "L∞ Norm: 7.0\n",
      "Euclidean Norm: 7.681145747868608\n",
      "Squared Euclidean Norm: 58.99999999999999\n"
     ]
    }
   ],
   "source": [
    "######################################################\n",
    "# Qestion 3\n",
    "x = np.array([7, 1, 3])\n",
    "\n",
    "norm_l1 = np.linalg.norm(x, ord=1)\n",
    "\n",
    "norm_max = np.linalg.norm(x, ord=np.inf)\n",
    "\n",
    "norm_euclidean = np.linalg.norm(x)\n",
    "\n",
    "norm_squared_euclidean = np.linalg.norm(x) ** 2\n",
    "\n",
    "print(\"L1 Norm:\", norm_l1)\n",
    "print(\"L∞ Norm:\", norm_max)\n",
    "print(\"Euclidean Norm:\", norm_euclidean)\n",
    "print(\"Squared Euclidean Norm:\", norm_squared_euclidean)"
   ]
  },
  {
   "cell_type": "code",
   "execution_count": 4,
   "metadata": {},
   "outputs": [
    {
     "name": "stdout",
     "output_type": "stream",
     "text": [
      "Eigenvalue 1: 4.741657386773941\n",
      "Eigenvector 1: [0.8819171  0.47140452]\n",
      "\n",
      "Eigenvalue 2: -2.7416573867739418\n",
      "Eigenvector 2: [-0.8819171   0.47140452]\n",
      "\n"
     ]
    }
   ],
   "source": [
    "######################################################\n",
    "# Qeustion 4\n",
    "A = np.array([[1, 7], [2, 1]])\n",
    "\n",
    "eigenvalues, eigenvectors = np.linalg.eig(A)\n",
    "\n",
    "for i in range(len(eigenvalues)):\n",
    "    print(f\"Eigenvalue {i+1}: {eigenvalues[i]}\")\n",
    "    print(f\"Eigenvector {i+1}: {eigenvectors[:, i]}\")\n",
    "    print()"
   ]
  },
  {
   "cell_type": "code",
   "execution_count": 5,
   "metadata": {},
   "outputs": [
    {
     "name": "stdout",
     "output_type": "stream",
     "text": [
      "Original Matrix A:\n",
      "[[1 7]\n",
      " [2 1]]\n",
      "\n",
      "Reconstructed Matrix A:\n",
      "[[1. 7.]\n",
      " [2. 1.]]\n"
     ]
    }
   ],
   "source": [
    "######################################################\n",
    "# Qestion 5\n",
    "A = np.array([[1, 7], [2, 1]])\n",
    "\n",
    "eigenvalues, eigenvectors = np.linalg.eig(A)\n",
    "\n",
    "V = eigenvectors\n",
    "\n",
    "Lambda = np.diag(eigenvalues)\n",
    "\n",
    "A_reconstructed = V @ Lambda @ np.linalg.inv(V)\n",
    "\n",
    "print(\"Original Matrix A:\")\n",
    "print(A)\n",
    "print(\"\\nReconstructed Matrix A:\")\n",
    "print(A_reconstructed)"
   ]
  },
  {
   "cell_type": "code",
   "execution_count": 6,
   "metadata": {},
   "outputs": [
    {
     "name": "stdout",
     "output_type": "stream",
     "text": [
      "The best-fit line is: y = 0.60x + 1.40\n"
     ]
    }
   ],
   "source": [
    "######################################################\n",
    "# Qestion 6\n",
    "points = np.array([[1, 1], [2, 4], [3, 2], [4, 6], [5, 3]])\n",
    "\n",
    "A = np.column_stack((np.ones(len(points)), points[:, 0]))\n",
    "y = points[:, 1]\n",
    "\n",
    "x = np.linalg.pinv(A) @ y\n",
    "\n",
    "b, m = x[0], x[1]\n",
    "\n",
    "print(f\"The best-fit line is: y = {m:.2f}x + {b:.2f}\")"
   ]
  },
  {
   "cell_type": "code",
   "execution_count": 7,
   "metadata": {},
   "outputs": [
    {
     "name": "stdout",
     "output_type": "stream",
     "text": [
      "Left-singular values:\n",
      "[8.2655674  3.41765936]\n",
      "\n",
      "Right-singular vectors:\n",
      "[[ 0.40563942  0.91403318]\n",
      " [ 0.91403318 -0.40563942]]\n"
     ]
    }
   ],
   "source": [
    "######################################################\n",
    "# Qestion 7\n",
    "A = np.array([[1, 7], [2, 1], [4, 3]])\n",
    "\n",
    "U, S, VT = np.linalg.svd(A)\n",
    "\n",
    "print(\"Left-singular values:\")\n",
    "print(S)\n",
    "\n",
    "print(\"\\nRight-singular vectors:\")\n",
    "print(VT.T)"
   ]
  },
  {
   "cell_type": "code",
   "execution_count": 8,
   "metadata": {},
   "outputs": [
    {
     "name": "stdout",
     "output_type": "stream",
     "text": [
      "Original Matrix A:\n",
      "[[1 7]\n",
      " [7 2]]\n",
      "\n",
      "Reconstructed Matrix A:\n",
      "[[1. 7.]\n",
      " [7. 2.]]\n"
     ]
    }
   ],
   "source": [
    "######################################################\n",
    "# Qestion 8\n",
    "A = np.array([[1, 7], [7, 2]])\n",
    "\n",
    "eigenvalues, eigenvectors = np.linalg.eig(A)\n",
    "\n",
    "Q = eigenvectors\n",
    "\n",
    "Lambda = np.diag(eigenvalues)\n",
    "\n",
    "A_reconstructed = Q @ Lambda @ Q.T\n",
    "\n",
    "print(\"Original Matrix A:\")\n",
    "print(A)\n",
    "print(\"\\nReconstructed Matrix A:\")\n",
    "print(A_reconstructed)"
   ]
  },
  {
   "cell_type": "code",
   "execution_count": null,
   "metadata": {},
   "outputs": [],
   "source": []
  }
 ],
 "metadata": {
  "kernelspec": {
   "display_name": "base",
   "language": "python",
   "name": "python3"
  },
  "language_info": {
   "codemirror_mode": {
    "name": "ipython",
    "version": 3
   },
   "file_extension": ".py",
   "mimetype": "text/x-python",
   "name": "python",
   "nbconvert_exporter": "python",
   "pygments_lexer": "ipython3",
   "version": "3.10.13"
  }
 },
 "nbformat": 4,
 "nbformat_minor": 2
}
